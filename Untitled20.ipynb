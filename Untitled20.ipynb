{
 "cells": [
  {
   "cell_type": "markdown",
   "metadata": {},
   "source": [
    "1A:roles in the programming:python developer,java developer,web developer,android developer etc\n",
    "   benfits of programming:creative and logical thinking,carrer flexibility,can earn money.\n",
    "2A:when it's specified the code runs.\n",
    "3A:import statement\n",
    "4A:A function is a procedure to acheive a particular result while call to a function is using this function to acheive a task\n",
    "5A: There are one global scope and three local scopes in python\n",
    "6A:A local variable retains its value untill the next time the ffunction is called a local variable ,becomes undefined after the    function calls completes the local variable can be used outside the function any timeafter the function call completes\n",
    "7A:A return statement is used to end the execution of the function call and returns the resultto the caller,yes it is possible      to have a return value in expression\n",
    "8A: A function without an explict return statement returns none.in case of no argument and no return value,the definition is         very simple.\n",
    "9A:We can declare the global keyword to declare which variables are global\n",
    "10A:None is not same as 0,the none keyword is used to define a null value,or no value at all.None is data type of its own.\n",
    "11A:The import statement imports the word named areallyourpetsnamederic\n",
    "14A:The try and except block in python is used to catch and handle exepectations.python executes code following the try                statement as a normal part of the program,the code that follows the except statement is the programs response to any                 expectations in the preceeding try clause.\n",
    "13A:If an error occurs in program,we dont want the program to unxpectedly crash on the user .Instead error handling can be used     to notify the user of why the error occured annd gracefully exit the process that causedv the  error"
   ]
  }
 ],
 "metadata": {
  "kernelspec": {
   "display_name": "Python 3",
   "language": "python",
   "name": "python3"
  },
  "language_info": {
   "codemirror_mode": {
    "name": "ipython",
    "version": 3
   },
   "file_extension": ".py",
   "mimetype": "text/x-python",
   "name": "python",
   "nbconvert_exporter": "python",
   "pygments_lexer": "ipython3",
   "version": "3.8.5"
  }
 },
 "nbformat": 4,
 "nbformat_minor": 4
}
